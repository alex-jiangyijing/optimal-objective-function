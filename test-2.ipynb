{
 "cells": [
  {
   "cell_type": "code",
   "execution_count": 10,
   "metadata": {},
   "outputs": [
    {
     "name": "stdout",
     "output_type": "stream",
     "text": [
      "0.9908790483481015\n",
      "100.02693397648247\n",
      "0."
     ]
    },
    {
     "name": "stderr",
     "output_type": "stream",
     "text": [
      "WARNING: Method definition normalization(Array{Float64, 1}) in module Main at In[9]:3 overwritten at In[10]:3.\n",
      "WARNING: Method definition teacher() in module Main at In[9]:13 overwritten at In[10]:13.\n",
      "WARNING: Method definition myfunc(Array{Float64, 1}) in module Main at In[9]:46 overwritten at In[10]:46.\n",
      "WARNING: Method definition error(Array{Float64, 1}) in module Main at In[9]:58 overwritten at In[10]:58.\n"
     ]
    },
    {
     "name": "stdout",
     "output_type": "stream",
     "text": [
      "9989000581162324\n",
      "99.15707471992421\n",
      "1.0003408025525284\n",
      "99.93449278912242\n",
      "1.0084315546922744\n",
      "100.07462383587757\n",
      "1.0080669908538569\n",
      "99.95449882544403\n",
      "0.9958689806067348\n",
      "99.97850594012003\n",
      "1.844423585920891\n",
      "99.94683629014555\n",
      "1.8727455456869265\n",
      "100.08712121563138\n",
      "0.9997046668817475\n",
      "99.92511089933703\n",
      "1.009517176905765\n",
      "99.91716936966706\n",
      "0.9925447112620052\n",
      "99.92033860200053\n",
      "1.003785634004051\n",
      "0.09161621978791358\n",
      "8.393183809624828\n",
      "0.4405118771965961\n"
     ]
    }
   ],
   "source": [
    "#normalize any vector to the N sphere\n",
    "function normalization(learn::Array{Float64,1})\n",
    "    norm=0\n",
    "    for c in learn\n",
    "        norm=norm+c^2\n",
    "    end\n",
    "    learn_norm=sqrt(N)*learn/sqrt(norm)\n",
    "    return(learn_norm)\n",
    "end\n",
    "\n",
    "#generate the underlying couplings with s=1; generating M sets of biased inputs and outputs \n",
    "function teacher()\n",
    "    coupling=rand(d,N)   #draw from d, the standard normal distribution\n",
    "    mag=sum(coupling)\n",
    "    norm=sum(coupling.^2)\n",
    "    while (mag>10.1)||(mag<9.9)||(norm>100.1)||(norm<99.9)\n",
    "        coupling=rand(d,N)\n",
    "        mag=sum(coupling)\n",
    "        norm=sum(coupling.^2)\n",
    "    end\n",
    "    println(mag/10.0)  #print weak magnetisation of the teacher\n",
    "    println(norm)   #print squared norm of the teacher\n",
    "    \n",
    "    observation=Array{Int64}(N+1,M)\n",
    "    for i=1:M\n",
    "        input=rand(N)\n",
    "        for j=1:N\n",
    "            if input[j]<0.5+m/2.0\n",
    "                observation[j,i]=1\n",
    "            else\n",
    "                observation[j,i]=-1\n",
    "            end\n",
    "        end\n",
    "        if dot(observation[1:N,i],coupling)>0\n",
    "            output=1\n",
    "        else\n",
    "            output=-1\n",
    "        end\n",
    "        observation[N+1,i]=output\n",
    "    end\n",
    "    coupling,observation\n",
    "end\n",
    "\n",
    "#cost function with \\rho(k)=-k\n",
    "function myfunc(J::Array{Float64,1})\n",
    "    student=J\n",
    "    add=zeros(N)\n",
    "    for c=1:M\n",
    "        field=teach[2][N+1,c]*dot(teach[2][1:N,c],student)/sqrt(N)\n",
    "        add=add-teach[2][1:N,c].*teach[2][N+1,c]./sqrt(N)   \n",
    "    end\n",
    "    student=student-add\n",
    "    return(student)      \n",
    "end\n",
    "\n",
    "#evaluate the error between teacher and student\n",
    "function error(J::Array{Float64,1})\n",
    "    error=0.0\n",
    "    for c=1:N\n",
    "        error=error+(teach[1][c]-J[c])^2\n",
    "    end\n",
    "    error/N\n",
    "end\n",
    "\n",
    "\n",
    "m=0.4\n",
    "N=100   #number of nodes\n",
    "M=300   #number of observations\n",
    "using Distributions\n",
    "srand(123)   #setting seed\n",
    "d=Normal()   #define d as the standard normal distribution\n",
    "trial=10   #number of trials\n",
    "data1=zeros(trial)\n",
    "data2=zeros(trial)\n",
    "teach=teacher()\n",
    "for i=1:trial\n",
    "    teach=teacher()\n",
    "    initial=rand(d,N)\n",
    "    student=initial\n",
    "    for j=1:500\n",
    "        student=myfunc(student)\n",
    "    end\n",
    "    student=normalization(student)\n",
    "    data1[i]=error(student)\n",
    "    data2[i]=sum(student)/10\n",
    "end\n",
    "average1=0.0\n",
    "average2=0.0\n",
    "for i=1:trial\n",
    "    average1=average1+data1[i]\n",
    "    average2=average2+data2[i]\n",
    "end\n",
    "average1=average1/trial\n",
    "average2=average2/trial\n",
    "\n",
    "standard1=0.0\n",
    "standard2=0.0\n",
    "for i=1:trial\n",
    "    standard1=standard1+(data1[i]-average1)^2\n",
    "    standard2=standard2+(data2[i]-average2)^2\n",
    "end\n",
    "standard1=sqrt(standard1/trial)\n",
    "standard2=sqrt(standard2/trial)\n",
    "\n",
    "println(average1)  #average of error between student and teacher\n",
    "println(standard1)  #standard deviation of error between student and teacher\n",
    "println(average2)  #average of weak magnetisation of students\n",
    "println(standard2)  #standard deviation of weak magnetisation of students"
   ]
  },
  {
   "cell_type": "code",
   "execution_count": null,
   "metadata": {},
   "outputs": [],
   "source": [
    "\n"
   ]
  },
  {
   "cell_type": "code",
   "execution_count": 61,
   "metadata": {},
   "outputs": [
    {
     "data": {
      "text/latex": [
       "$$0.38372592311059$$"
      ],
      "text/plain": [
       "0.383725923110590"
      ]
     },
     "execution_count": 61,
     "metadata": {},
     "output_type": "execute_result"
    }
   ],
   "source": [
    "#theoretical calculation\n",
    "using SymPy\n",
    "x=Sym(\"x\")\n",
    "k=Integral(x*exp(-x^2/2.0)/sqrt(2*pi),(x,0.4*0.3,50.0))\n",
    "g=2*sqrt(3)*evalf(k)\n",
    "2-2*sqrt(g^2/(1+g^2)) #error"
   ]
  },
  {
   "cell_type": "code",
   "execution_count": null,
   "metadata": {},
   "outputs": [],
   "source": []
  },
  {
   "cell_type": "code",
   "execution_count": null,
   "metadata": {},
   "outputs": [],
   "source": []
  },
  {
   "cell_type": "code",
   "execution_count": null,
   "metadata": {
    "collapsed": true
   },
   "outputs": [],
   "source": []
  },
  {
   "cell_type": "code",
   "execution_count": null,
   "metadata": {
    "collapsed": true
   },
   "outputs": [],
   "source": []
  },
  {
   "cell_type": "code",
   "execution_count": null,
   "metadata": {
    "collapsed": true
   },
   "outputs": [],
   "source": []
  },
  {
   "cell_type": "code",
   "execution_count": null,
   "metadata": {
    "collapsed": true
   },
   "outputs": [],
   "source": []
  },
  {
   "cell_type": "code",
   "execution_count": null,
   "metadata": {
    "collapsed": true
   },
   "outputs": [],
   "source": []
  },
  {
   "cell_type": "code",
   "execution_count": null,
   "metadata": {
    "collapsed": true
   },
   "outputs": [],
   "source": []
  }
 ],
 "metadata": {
  "kernelspec": {
   "display_name": "Julia 0.5.1",
   "language": "julia",
   "name": "julia-0.5"
  },
  "language_info": {
   "file_extension": ".jl",
   "mimetype": "application/julia",
   "name": "julia",
   "version": "0.5.1"
  }
 },
 "nbformat": 4,
 "nbformat_minor": 2
}
